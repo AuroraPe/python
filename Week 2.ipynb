{
 "cells": [
  {
   "cell_type": "markdown",
   "metadata": {},
   "source": [
    "Storing strings in variables"
   ]
  },
  {
   "cell_type": "code",
   "execution_count": 1,
   "metadata": {},
   "outputs": [],
   "source": [
    "name = \"Aurora\""
   ]
  },
  {
   "cell_type": "code",
   "execution_count": 2,
   "metadata": {},
   "outputs": [],
   "source": [
    "age = 28"
   ]
  },
  {
   "cell_type": "code",
   "execution_count": 3,
   "metadata": {},
   "outputs": [
    {
     "name": "stdout",
     "output_type": "stream",
     "text": [
      "Aurora\n"
     ]
    }
   ],
   "source": [
    "print name"
   ]
  },
  {
   "cell_type": "code",
   "execution_count": 4,
   "metadata": {},
   "outputs": [
    {
     "name": "stdout",
     "output_type": "stream",
     "text": [
      "28\n"
     ]
    }
   ],
   "source": [
    "print age"
   ]
  },
  {
   "cell_type": "code",
   "execution_count": 5,
   "metadata": {},
   "outputs": [
    {
     "ename": "TypeError",
     "evalue": "cannot concatenate 'str' and 'int' objects",
     "output_type": "error",
     "traceback": [
      "\u001b[0;31m---------------------------------------------------------------------------\u001b[0m",
      "\u001b[0;31mTypeError\u001b[0m                                 Traceback (most recent call last)",
      "\u001b[0;32m<ipython-input-5-12bbe651be0b>\u001b[0m in \u001b[0;36m<module>\u001b[0;34m()\u001b[0m\n\u001b[0;32m----> 1\u001b[0;31m \u001b[0;32mprint\u001b[0m \u001b[0mname\u001b[0m \u001b[0;34m+\u001b[0m \u001b[0mage\u001b[0m\u001b[0;34m\u001b[0m\u001b[0m\n\u001b[0m",
      "\u001b[0;31mTypeError\u001b[0m: cannot concatenate 'str' and 'int' objects"
     ]
    }
   ],
   "source": [
    "print name + age"
   ]
  },
  {
   "cell_type": "code",
   "execution_count": 6,
   "metadata": {},
   "outputs": [
    {
     "name": "stdout",
     "output_type": "stream",
     "text": [
      "Aurora28\n"
     ]
    }
   ],
   "source": [
    "print name + str(age)"
   ]
  },
  {
   "cell_type": "code",
   "execution_count": 7,
   "metadata": {},
   "outputs": [],
   "source": [
    "letter1 = \"H\"\n",
    "letter2 = \"E\"\n",
    "letter3 = \"L\"\n",
    "letter4 = \"L\"\n",
    "letter5 = \"O\""
   ]
  },
  {
   "cell_type": "code",
   "execution_count": 8,
   "metadata": {},
   "outputs": [
    {
     "name": "stdout",
     "output_type": "stream",
     "text": [
      "E\n"
     ]
    }
   ],
   "source": [
    "print letter2"
   ]
  },
  {
   "cell_type": "code",
   "execution_count": 13,
   "metadata": {},
   "outputs": [
    {
     "name": "stdout",
     "output_type": "stream",
     "text": [
      "HELLO 1\n"
     ]
    }
   ],
   "source": [
    "print letter1 + letter2 + letter3 + letter4 + letter5 + \" \" + str(letter6)"
   ]
  },
  {
   "cell_type": "code",
   "execution_count": 16,
   "metadata": {},
   "outputs": [],
   "source": [
    "letter6 = 1"
   ]
  },
  {
   "cell_type": "code",
   "execution_count": 17,
   "metadata": {},
   "outputs": [],
   "source": [
    "gas = 2.35\n",
    "truck = 14"
   ]
  },
  {
   "cell_type": "code",
   "execution_count": 18,
   "metadata": {},
   "outputs": [
    {
     "name": "stdout",
     "output_type": "stream",
     "text": [
      "2.35\n"
     ]
    }
   ],
   "source": [
    "print gas"
   ]
  },
  {
   "cell_type": "code",
   "execution_count": 19,
   "metadata": {},
   "outputs": [
    {
     "name": "stdout",
     "output_type": "stream",
     "text": [
      "14\n"
     ]
    }
   ],
   "source": [
    "print truck"
   ]
  },
  {
   "cell_type": "code",
   "execution_count": 20,
   "metadata": {},
   "outputs": [
    {
     "data": {
      "text/plain": [
       "0"
      ]
     },
     "execution_count": 20,
     "metadata": {},
     "output_type": "execute_result"
    }
   ],
   "source": [
    "3/5"
   ]
  },
  {
   "cell_type": "code",
   "execution_count": 21,
   "metadata": {},
   "outputs": [
    {
     "data": {
      "text/plain": [
       "0.6"
      ]
     },
     "execution_count": 21,
     "metadata": {},
     "output_type": "execute_result"
    }
   ],
   "source": [
    "3.0 / 5.0"
   ]
  },
  {
   "cell_type": "code",
   "execution_count": 22,
   "metadata": {},
   "outputs": [],
   "source": [
    "colors = [\"red\",\"blue\",\"green\",\"yellow\",\"brown\",\"orange\",\"pink\",\"purple\",\"burgundy\"]"
   ]
  },
  {
   "cell_type": "code",
   "execution_count": 23,
   "metadata": {},
   "outputs": [
    {
     "name": "stdout",
     "output_type": "stream",
     "text": [
      "burgundy\n"
     ]
    }
   ],
   "source": [
    "print colors[-1]"
   ]
  },
  {
   "cell_type": "code",
   "execution_count": 24,
   "metadata": {},
   "outputs": [
    {
     "data": {
      "text/plain": [
       "9"
      ]
     },
     "execution_count": 24,
     "metadata": {},
     "output_type": "execute_result"
    }
   ],
   "source": [
    "len(colors)"
   ]
  },
  {
   "cell_type": "code",
   "execution_count": 25,
   "metadata": {},
   "outputs": [
    {
     "name": "stdout",
     "output_type": "stream",
     "text": [
      "burgundy\n"
     ]
    }
   ],
   "source": [
    "print colors[8]"
   ]
  },
  {
   "cell_type": "markdown",
   "metadata": {},
   "source": [
    "Dictionary"
   ]
  },
  {
   "cell_type": "code",
   "execution_count": 46,
   "metadata": {},
   "outputs": [],
   "source": [
    "cars = {\"ford\":\"f150\",\"volkswagen\":\"golf\",\"audi\":[\"q2\",\"a4\"],\"smart\":\"smartfor4\",\"bmw\":\"3208i\",\"toyota\":\"corolla\"}"
   ]
  },
  {
   "cell_type": "code",
   "execution_count": 31,
   "metadata": {},
   "outputs": [
    {
     "name": "stdout",
     "output_type": "stream",
     "text": [
      "a4\n"
     ]
    }
   ],
   "source": [
    "print cars[\"audi\"][1]"
   ]
  },
  {
   "cell_type": "markdown",
   "metadata": {},
   "source": [
    "Loops"
   ]
  },
  {
   "cell_type": "code",
   "execution_count": 33,
   "metadata": {},
   "outputs": [
    {
     "name": "stdout",
     "output_type": "stream",
     "text": [
      "red\n",
      "blue\n",
      "green\n",
      "yellow\n",
      "brown\n",
      "orange\n",
      "pink\n",
      "purple\n",
      "burgundy\n"
     ]
    }
   ],
   "source": [
    "# let's loop through the colors\n",
    "for item in colors:\n",
    "    print item"
   ]
  },
  {
   "cell_type": "code",
   "execution_count": 34,
   "metadata": {},
   "outputs": [
    {
     "name": "stdout",
     "output_type": "stream",
     "text": [
      "blue\n",
      "green\n",
      "yellow\n",
      "brown\n",
      "orange\n",
      "pink\n",
      "purple\n",
      "burgundy\n"
     ]
    }
   ],
   "source": [
    "# start after first item\n",
    "for item in colors[1:]:\n",
    "    print item"
   ]
  },
  {
   "cell_type": "code",
   "execution_count": 35,
   "metadata": {},
   "outputs": [
    {
     "name": "stdout",
     "output_type": "stream",
     "text": [
      "['blue', 'green', 'yellow', 'brown', 'orange', 'pink', 'purple', 'burgundy']\n"
     ]
    }
   ],
   "source": [
    "print colors[1:]"
   ]
  },
  {
   "cell_type": "code",
   "execution_count": 36,
   "metadata": {},
   "outputs": [],
   "source": [
    "building = \"annenberg\""
   ]
  },
  {
   "cell_type": "code",
   "execution_count": 37,
   "metadata": {},
   "outputs": [
    {
     "data": {
      "text/plain": [
       "'a'"
      ]
     },
     "execution_count": 37,
     "metadata": {},
     "output_type": "execute_result"
    }
   ],
   "source": [
    "building[0]"
   ]
  },
  {
   "cell_type": "code",
   "execution_count": 40,
   "metadata": {},
   "outputs": [
    {
     "data": {
      "text/plain": [
       "'berg'"
      ]
     },
     "execution_count": 40,
     "metadata": {},
     "output_type": "execute_result"
    }
   ],
   "source": [
    "building[5:]"
   ]
  },
  {
   "cell_type": "code",
   "execution_count": 41,
   "metadata": {},
   "outputs": [
    {
     "data": {
      "text/plain": [
       "'annen'"
      ]
     },
     "execution_count": 41,
     "metadata": {},
     "output_type": "execute_result"
    }
   ],
   "source": [
    "building[:5]"
   ]
  },
  {
   "cell_type": "code",
   "execution_count": 44,
   "metadata": {},
   "outputs": [
    {
     "name": "stdout",
     "output_type": "stream",
     "text": [
      "a\n",
      "n\n",
      "n\n",
      "e\n",
      "n\n",
      "b\n",
      "e\n",
      "r\n",
      "g\n"
     ]
    }
   ],
   "source": [
    "for letter in building:\n",
    "    print letter"
   ]
  },
  {
   "cell_type": "code",
   "execution_count": 47,
   "metadata": {},
   "outputs": [
    {
     "name": "stdout",
     "output_type": "stream",
     "text": [
      "toyota corolla\n",
      "volkswagen golf\n",
      "bmw 3208i\n",
      "ford f150\n",
      "smart smartfor4\n",
      "audi ['q2', 'a4']\n"
     ]
    }
   ],
   "source": [
    "for itemo in cars:\n",
    "    print itemo + \" \" + str(cars[itemo])"
   ]
  },
  {
   "cell_type": "code",
   "execution_count": 49,
   "metadata": {},
   "outputs": [
    {
     "name": "stdout",
     "output_type": "stream",
     "text": [
      "red\n",
      "blue\n",
      "green\n",
      "yellow\n",
      "brown\n",
      "orange\n",
      "pink\n",
      "purple\n"
     ]
    }
   ],
   "source": [
    "#loop through colors and print everything that's not burgundy\n",
    "for item in colors:\n",
    "    if item is not 'burgundy':\n",
    "        print item"
   ]
  },
  {
   "cell_type": "code",
   "execution_count": 50,
   "metadata": {},
   "outputs": [
    {
     "data": {
      "text/plain": [
       "8"
      ]
     },
     "execution_count": 50,
     "metadata": {},
     "output_type": "execute_result"
    }
   ],
   "source": [
    "# addition\n",
    "5 + 3"
   ]
  },
  {
   "cell_type": "code",
   "execution_count": 52,
   "metadata": {},
   "outputs": [
    {
     "data": {
      "text/plain": [
       "2"
      ]
     },
     "execution_count": 52,
     "metadata": {},
     "output_type": "execute_result"
    }
   ],
   "source": [
    "# subtraction\n",
    "4 - 2"
   ]
  },
  {
   "cell_type": "code",
   "execution_count": 53,
   "metadata": {},
   "outputs": [
    {
     "data": {
      "text/plain": [
       "4"
      ]
     },
     "execution_count": 53,
     "metadata": {},
     "output_type": "execute_result"
    }
   ],
   "source": [
    "# division\n",
    "8 / 2"
   ]
  },
  {
   "cell_type": "code",
   "execution_count": 54,
   "metadata": {},
   "outputs": [
    {
     "data": {
      "text/plain": [
       "9"
      ]
     },
     "execution_count": 54,
     "metadata": {},
     "output_type": "execute_result"
    }
   ],
   "source": [
    "# multiplication\n",
    "3 * 3"
   ]
  },
  {
   "cell_type": "code",
   "execution_count": 55,
   "metadata": {},
   "outputs": [],
   "source": [
    "# modulo (remainder)"
   ]
  },
  {
   "cell_type": "code",
   "execution_count": 56,
   "metadata": {},
   "outputs": [
    {
     "data": {
      "text/plain": [
       "1"
      ]
     },
     "execution_count": 56,
     "metadata": {},
     "output_type": "execute_result"
    }
   ],
   "source": [
    "5 % 2"
   ]
  },
  {
   "cell_type": "code",
   "execution_count": 57,
   "metadata": {},
   "outputs": [
    {
     "data": {
      "text/plain": [
       "True"
      ]
     },
     "execution_count": 57,
     "metadata": {},
     "output_type": "execute_result"
    }
   ],
   "source": [
    "8 > 2"
   ]
  },
  {
   "cell_type": "code",
   "execution_count": 58,
   "metadata": {},
   "outputs": [
    {
     "data": {
      "text/plain": [
       "False"
      ]
     },
     "execution_count": 58,
     "metadata": {},
     "output_type": "execute_result"
    }
   ],
   "source": [
    "8 > 10"
   ]
  },
  {
   "cell_type": "code",
   "execution_count": 59,
   "metadata": {},
   "outputs": [
    {
     "data": {
      "text/plain": [
       "True"
      ]
     },
     "execution_count": 59,
     "metadata": {},
     "output_type": "execute_result"
    }
   ],
   "source": [
    "truck >= 14"
   ]
  },
  {
   "cell_type": "code",
   "execution_count": 60,
   "metadata": {},
   "outputs": [
    {
     "data": {
      "text/plain": [
       "False"
      ]
     },
     "execution_count": 60,
     "metadata": {},
     "output_type": "execute_result"
    }
   ],
   "source": [
    "# is gas greater than 3?\n",
    "gas > 3"
   ]
  },
  {
   "cell_type": "code",
   "execution_count": 61,
   "metadata": {},
   "outputs": [
    {
     "name": "stdout",
     "output_type": "stream",
     "text": [
      "2.35\n"
     ]
    }
   ],
   "source": [
    "print gas"
   ]
  },
  {
   "cell_type": "code",
   "execution_count": 62,
   "metadata": {},
   "outputs": [],
   "source": [
    "arkgas = gas"
   ]
  },
  {
   "cell_type": "code",
   "execution_count": 63,
   "metadata": {},
   "outputs": [],
   "source": [
    "calgas = 4.00"
   ]
  },
  {
   "cell_type": "code",
   "execution_count": 64,
   "metadata": {},
   "outputs": [
    {
     "data": {
      "text/plain": [
       "False"
      ]
     },
     "execution_count": 64,
     "metadata": {},
     "output_type": "execute_result"
    }
   ],
   "source": [
    "calgas < arkgas"
   ]
  },
  {
   "cell_type": "code",
   "execution_count": 65,
   "metadata": {},
   "outputs": [
    {
     "ename": "SyntaxError",
     "evalue": "invalid syntax (<ipython-input-65-ebbad993aeb0>, line 1)",
     "output_type": "error",
     "traceback": [
      "\u001b[0;36m  File \u001b[0;32m\"<ipython-input-65-ebbad993aeb0>\"\u001b[0;36m, line \u001b[0;32m1\u001b[0m\n\u001b[0;31m    1name = \"Aurora\"\u001b[0m\n\u001b[0m        ^\u001b[0m\n\u001b[0;31mSyntaxError\u001b[0m\u001b[0;31m:\u001b[0m invalid syntax\n"
     ]
    }
   ],
   "source": [
    "# can't start variable with number\n",
    "1name = \"Aurora\""
   ]
  },
  {
   "cell_type": "code",
   "execution_count": 66,
   "metadata": {},
   "outputs": [],
   "source": [
    "first_name = \"Aurora\""
   ]
  },
  {
   "cell_type": "code",
   "execution_count": 67,
   "metadata": {},
   "outputs": [
    {
     "ename": "SyntaxError",
     "evalue": "invalid syntax (<ipython-input-67-1b77275eb136>, line 2)",
     "output_type": "error",
     "traceback": [
      "\u001b[0;36m  File \u001b[0;32m\"<ipython-input-67-1b77275eb136>\"\u001b[0;36m, line \u001b[0;32m2\u001b[0m\n\u001b[0;31m    first name = \"Aurora\"\u001b[0m\n\u001b[0m             ^\u001b[0m\n\u001b[0;31mSyntaxError\u001b[0m\u001b[0;31m:\u001b[0m invalid syntax\n"
     ]
    }
   ],
   "source": [
    "# can't do it with a space\n",
    "first name = \"Aurora\""
   ]
  },
  {
   "cell_type": "code",
   "execution_count": 68,
   "metadata": {},
   "outputs": [],
   "source": [
    "firstName = \"Aurora\""
   ]
  },
  {
   "cell_type": "code",
   "execution_count": 69,
   "metadata": {},
   "outputs": [
    {
     "ename": "SyntaxError",
     "evalue": "invalid syntax (<ipython-input-69-1e539b9c07c8>, line 1)",
     "output_type": "error",
     "traceback": [
      "\u001b[0;36m  File \u001b[0;32m\"<ipython-input-69-1e539b9c07c8>\"\u001b[0;36m, line \u001b[0;32m1\u001b[0m\n\u001b[0;31m    sentence = \"Jon said, \"Hello.\"\"\u001b[0m\n\u001b[0m                               ^\u001b[0m\n\u001b[0;31mSyntaxError\u001b[0m\u001b[0;31m:\u001b[0m invalid syntax\n"
     ]
    }
   ],
   "source": [
    "# wrong quotes\n",
    "sentence = \"Jon said, \"Hello.\"\""
   ]
  },
  {
   "cell_type": "code",
   "execution_count": 71,
   "metadata": {},
   "outputs": [
    {
     "name": "stdout",
     "output_type": "stream",
     "text": [
      "Jon said, \"Hello.\"\n"
     ]
    }
   ],
   "source": [
    "# this is how you get over it\n",
    "sentence = \"Jon said, \\\"Hello.\\\"\"\n",
    "print sentence"
   ]
  },
  {
   "cell_type": "code",
   "execution_count": 73,
   "metadata": {},
   "outputs": [
    {
     "name": "stdout",
     "output_type": "stream",
     "text": [
      "Danielle said, 'Hello.'\n"
     ]
    }
   ],
   "source": [
    "# or this\n",
    "sentence2 = \"Danielle said, 'Hello.'\"\n",
    "print sentence2"
   ]
  },
  {
   "cell_type": "code",
   "execution_count": 74,
   "metadata": {},
   "outputs": [
    {
     "name": "stdout",
     "output_type": "stream",
     "text": [
      "Jon said, \"Danielle said, 'Can we do single quotes?'\"\n"
     ]
    }
   ],
   "source": [
    "sentence3 = \"Jon said, \\\"Danielle said, 'Can we do single quotes?'\\\"\"\n",
    "print sentence3"
   ]
  },
  {
   "cell_type": "code",
   "execution_count": 75,
   "metadata": {},
   "outputs": [
    {
     "name": "stdout",
     "output_type": "stream",
     "text": [
      "\n",
      "This is a line.\n",
      "And another line.\n",
      "And even one more line.\n",
      "\n"
     ]
    }
   ],
   "source": [
    "sentence4 = \"\"\"\n",
    "This is a line.\n",
    "And another line.\n",
    "And even one more line.\n",
    "\"\"\"\n",
    "print sentence4"
   ]
  },
  {
   "cell_type": "code",
   "execution_count": 76,
   "metadata": {},
   "outputs": [],
   "source": [
    "# create a text file and check original folder—if you open with a w it will delete everything in that file. If you used a, for append, it would add.\n",
    "f = open(\"week2test.txt\",\"w\")"
   ]
  },
  {
   "cell_type": "code",
   "execution_count": 78,
   "metadata": {},
   "outputs": [],
   "source": [
    "# write a sentence to that file\n",
    "f.write(sentence4)"
   ]
  },
  {
   "cell_type": "code",
   "execution_count": 109,
   "metadata": {},
   "outputs": [],
   "source": [
    "# close the file\n",
    "f.close()"
   ]
  },
  {
   "cell_type": "code",
   "execution_count": 110,
   "metadata": {},
   "outputs": [],
   "source": [
    "# open the file for reading\n",
    "f = open(\"week2test.txt\",\"r\")"
   ]
  },
  {
   "cell_type": "code",
   "execution_count": 111,
   "metadata": {},
   "outputs": [
    {
     "data": {
      "text/plain": [
       "'\\nThis is a line.\\nAnd another line.\\nAnd even one more line.\\nI just added this line!I just added this line!\\nI just added this line!\\n\\nred\\n\\t*strawberry\\n\\t*cherry\\n\\t*rasperry\\n'"
      ]
     },
     "execution_count": 111,
     "metadata": {},
     "output_type": "execute_result"
    }
   ],
   "source": [
    "f.read()"
   ]
  },
  {
   "cell_type": "code",
   "execution_count": 102,
   "metadata": {},
   "outputs": [],
   "source": [
    "f = open(\"week2test.txt\", \"a\")"
   ]
  },
  {
   "cell_type": "code",
   "execution_count": 103,
   "metadata": {},
   "outputs": [],
   "source": [
    "f.write(\"I just added this line!\\n\")"
   ]
  },
  {
   "cell_type": "code",
   "execution_count": 104,
   "metadata": {},
   "outputs": [],
   "source": [
    "f.close()"
   ]
  },
  {
   "cell_type": "code",
   "execution_count": 105,
   "metadata": {},
   "outputs": [],
   "source": [
    "fruits = \"\"\"\n",
    "red\n",
    "\\t*strawberry\n",
    "\\t*cherry\n",
    "\\t*rasperry\n",
    "\"\"\""
   ]
  },
  {
   "cell_type": "code",
   "execution_count": 98,
   "metadata": {},
   "outputs": [
    {
     "name": "stdout",
     "output_type": "stream",
     "text": [
      "\n",
      "red\n",
      "\t*strawberry\n",
      "\t*cherry\n",
      "\t*rasperry\n",
      "\n"
     ]
    }
   ],
   "source": [
    "print fruits"
   ]
  },
  {
   "cell_type": "code",
   "execution_count": 106,
   "metadata": {},
   "outputs": [],
   "source": [
    "f = open(\"week2test.txt\",\"a\")"
   ]
  },
  {
   "cell_type": "code",
   "execution_count": 107,
   "metadata": {},
   "outputs": [],
   "source": [
    "f.write(fruits)"
   ]
  },
  {
   "cell_type": "code",
   "execution_count": 108,
   "metadata": {},
   "outputs": [],
   "source": [
    "f.close()"
   ]
  },
  {
   "cell_type": "code",
   "execution_count": 112,
   "metadata": {},
   "outputs": [],
   "source": [
    "import csv"
   ]
  },
  {
   "cell_type": "code",
   "execution_count": 117,
   "metadata": {},
   "outputs": [
    {
     "name": "stdout",
     "output_type": "stream",
     "text": [
      "['5525-030-023', '19811026-50', 'other', 'N', 'UNIVERSITY OF SOUTHERN CA', '', '', '', '457', '', 'N', 'ORANGE DR', '', 'LOS ANGELES CA', '90036-2611', '', '', '', '', '', '', '']\n"
     ]
    }
   ],
   "source": [
    "# open the assessor file, with loop\n",
    "with open(\"assessor.csv\", \"r\") as csvfile:\n",
    "    #run the file through csv reader\n",
    "    assessor = csv.reader(csvfile)\n",
    "    #loop through each row\n",
    "    for row in assessor:\n",
    "        #check if this assessor id number is in row\n",
    "        if '5525-030-023' in row:\n",
    "            print row"
   ]
  },
  {
   "cell_type": "code",
   "execution_count": 122,
   "metadata": {},
   "outputs": [
    {
     "name": "stdout",
     "output_type": "stream",
     "text": [
      "['5525-030-023', '19811026-50', 'other', 'N', 'UNIVERSITY OF SOUTHERN CA', '', '', '', '457', '', 'N', 'ORANGE DR', '', 'LOS ANGELES CA', '90036-2611', '', '', '', '', '', '', '']\n",
      "['5525-032-017', '19811026-50', 'other', 'N', 'UNIVERSITY OF SOUTHERN CA', '', '', '', '321', '', 'N', 'SYCAMORE AVE', '', 'LOS ANGELES CA', '90036-2685', '0', '', '', 'UNIVERSITY PARK MC-0588', '', 'LOS ANGELES CA', '90089']\n",
      "['5055-027-022', '19860611-50', '', 'Y', 'UNIVERSITY OF SOUTHERN CA', '', '', 'DEE JACKSON', '1149', '', 'E', '28TH ST', '', 'LOS ANGELES CA', '90011-2159', '620', '', '', 'MC CARTHY WAY', 'STE 5', 'LOS ANGELES CA', '90089-0155']\n",
      "['5055-029-020', '19860114-50', '', 'Y', 'UNIVERSITY OF SOUTHERN CA', '', '', 'DEE JACKSON', '1138', '', 'W', '29TH ST', '', 'LOS ANGELES CA', '90007-3115', '620', '', '', 'MC CARTHY WAY', 'STE 5', 'LOS ANGELES CA', '90089-0155']\n",
      "['5055-029-021', '19860114-50', '', 'Y', 'UNIVERSITY OF SOUTHERN CA', '', '', 'DEE JACKSON', '1124', '', 'W', '29TH ST', '', 'LOS ANGELES CA', '90007-3114', '620', '', '', 'MC CARTHY WAY', 'STE 5', 'LOS ANGELES CA', '90089-0155']\n",
      "['5122-022-002', '19890418-50', 'other', 'Y', 'UNIVERSITY OF SOUTHERN CA', '', '', 'DEE JACKSON', '3500', '', 'S', 'HOPE ST', '', 'LOS ANGELES CA', '90007-4342', '620', '', '', 'MC CARTHY WAY', 'STE 5', 'LOS ANGELES CA', '90089-0155']\n",
      "['5123-004-433', '19921026-50', '', 'Y', 'UNIVERSITY OF SOUTHERN CA', '', '', 'DEE JACKSON', '3375', '', 'S', 'HOOVER ST', '115', 'LOS ANGELES CA', '90089-0116', '620', '', '', 'MC CARTHY WAY', 'STE 5', 'LOS ANGELES CA', '90089-0155']\n",
      "['5139-029-027', '20101105-50', '', 'Y', 'UNIVERSITY OF SOUTHERN CA', '', '', '', '1155', '', 'S', 'GRAND AVE', 'NO  1410', 'LOS ANGELES CA', '90015-2272', '620', '', 'W', 'MC CARTHY WAY', 'STE 5', 'LOS ANGELES CA', '90089']\n",
      "['2331-032-199', '20080212-50', 'nonReapp', 'Y', 'UNIVERSITY OF SOUTHERN CA', '', '', 'DEE JACKSON', '13032', '', '', 'VICTORY BLVD', '', 'LOS ANGELES CA', '91606-2926', '620', '', '', 'MC CARTHY WAY', 'STE 5', 'LOS ANGELES CA', '90089-0155']\n"
     ]
    }
   ],
   "source": [
    "# open the assessor file, with loop\n",
    "with open(\"assessor.csv\", \"r\") as csvfile:\n",
    "    #run the file through csv reader\n",
    "    assessor = csv.reader(csvfile)\n",
    "    #loop through each row\n",
    "    for row in assessor:\n",
    "        #check if this assessor id number is in row\n",
    "        if 'UNIVERSITY OF SOUTHERN CA' in row:\n",
    "            print row"
   ]
  },
  {
   "cell_type": "code",
   "execution_count": 123,
   "metadata": {},
   "outputs": [
    {
     "name": "stdout",
     "output_type": "stream",
     "text": [
      "['7480-004-007', '19781229-50', 'other', 'Y', 'UNIVERSITY OF SO CALIF', '', '', 'DEE JACKSON', '207', '', '', 'WRIGLEY RD E TE', '', 'AVALON CA', '90704', '620', '', '', 'MC CARTHY WAY', 'STE 5', 'LOS ANGELES CA', '90089-0155']\n",
      "['7480-040-026', '19720207-50', 'other', 'Y', 'UNIVERSITY OF SO CALIF', '', '', 'DEE JACKSON', '0', '', '', 'BIG FISHERMANS COVE UNIVERSITY', '', 'AVALON CA', '90704', '620', '', '', 'MC CARTHY WAY', 'STE 5', 'LOS ANGELES CA', '90089-0155']\n",
      "['5525-030-023', '19811026-50', 'other', 'N', 'UNIVERSITY OF SOUTHERN CA', '', '', '', '457', '', 'N', 'ORANGE DR', '', 'LOS ANGELES CA', '90036-2611', '', '', '', '', '', '', '']\n",
      "['5525-032-017', '19811026-50', 'other', 'N', 'UNIVERSITY OF SOUTHERN CA', '', '', '', '321', '', 'N', 'SYCAMORE AVE', '', 'LOS ANGELES CA', '90036-2685', '0', '', '', 'UNIVERSITY PARK MC-0588', '', 'LOS ANGELES CA', '90089']\n",
      "['5039-002-029', '19711210-50', 'other', 'Y', 'UNIVERSITY OF SO CALIF', '', '', 'DEE JACKSON', '1012', '', 'W', '36TH ST', '', 'LOS ANGELES CA', '90007-5603', '620', '', '', 'MC CARTHY WAY', 'STE 5', 'LOS ANGELES CA', '90089-0155']\n",
      "['5039-002-030', '19711210-50', 'other', 'Y', 'UNIVERSITY OF SO CALIF', '', '', 'DEE JACKSON', '1046', '', 'W', '36TH ST', '', 'LOS ANGELES CA', '90007-5603', '620', '', '', 'MC CARTHY WAY', 'STE 5', 'LOS ANGELES CA', '90089-0155']\n",
      "['5039-002-031', '19711210-50', 'other', 'Y', 'UNIVERSITY OF SO CALIF', '', '', 'DEE JACKSON', '1027', '', 'W', '34TH ST', '', 'LOS ANGELES CA', '90089-0001', '620', '', '', 'MC CARTHY WAY', 'STE 5', 'LOS ANGELES CA', '90089-0155']\n",
      "['5039-002-032', '19711210-50', 'other', 'Y', 'UNIVERSITY OF SO CALIF', '', '', 'DEE JACKSON', '1015', '', 'W', '34TH ST', '', 'LOS ANGELES CA', '90007-3508', '620', '', '', 'MC CARTHY WAY', 'STE 5', 'LOS ANGELES CA', '90089-0155']\n",
      "['5039-002-033', '19820513-50', 'other', 'Y', 'UNIVERSITY OF SO CALIF', '', '', 'DEE JACKSON', '0', '', '', '', '', '', '', '620', '', '', 'MC CARTHY WAY', 'STE 5', 'LOS ANGELES CA', '90089-0155']\n",
      "['5039-002-034', '19711210-50', 'other', 'Y', 'UNIVERSITY OF SO CALIF', '', '', 'DEE JACKSON', '3667', '', '', 'MCCLINTOCK AVE', '', 'LOS ANGELES CA', '90089-0084', '620', '', '', 'MC CARTHY WAY', 'STE 5', 'LOS ANGELES CA', '90089-0155']\n",
      "['5039-003-027', '19711210-50', 'other', 'Y', 'UNIVERSITY OF SO CALIF', '', '', 'DEE JACKSON', '925', '', 'W', '34TH ST', '', 'LOS ANGELES CA', '90089-0058', '620', '', '', 'MC CARTHY WAY', 'STE 5', 'LOS ANGELES CA', '90089-0155']\n",
      "['5039-003-029', '19711210-50', 'other', 'Y', 'UNIVERSITY OF SO CALIF', '', '', 'DEE JACKSON', '0', '', '', '', '', '', '', '620', '', '', 'MC CARTHY WAY', 'STE 5', 'LOS ANGELES CA', '90089-0155']\n",
      "['5039-003-030', '19820513-50', 'other', 'Y', 'UNIVERSITY OF SO CALIF', '', '', 'DEE JACKSON', '0', '', '', '', '', '', '', '620', '', '', 'MC CARTHY WAY', 'STE 5', 'LOS ANGELES CA', '90089-0155']\n",
      "['5039-012-027', '19640000-50', 'other', 'Y', 'UNIVERSITY OF SO CALIF', '', '', 'DEE JACKSON', '920', '', 'W', '37TH ST', '', 'LOS ANGELES CA', '90089-0061', '620', '', 'W', 'MC CARTHY WAY', 'STE 5', 'LOS ANGELES CA', '90089']\n",
      "['5039-012-029', '19600113-50', 'other', 'Y', 'UNIVERSITY OF SO CALIF', '', '', 'DEE JACKSON', '3564', '', '', 'MCCLINTOCK AVE', '', 'LOS ANGELES CA', '90007-4032', '620', '', 'W', 'MC CARTHY WAY', 'STE 5', 'LOS ANGELES CA', '90089']\n",
      "['5039-012-030', '19650000-50', 'other', 'Y', 'UNIVERSITY OF SO CALIF', '', '', 'DEE JACKSON', '900', '', 'W', '35TH ST', '', 'LOS ANGELES CA', '90007-4001', '620', '', 'W', 'MC CARTHY WAY', 'STE 5', 'LOS ANGELES CA', '90089']\n",
      "['5039-012-031', '19650000-50', 'other', 'Y', 'UNIVERSITY OF SO CALIF', '', '', 'DEE JACKSON', '0', '', '', '', '', '', '', '620', '', 'W', 'MC CARTHY WAY', 'STE 5', 'LOS ANGELES CA', '90089']\n",
      "['5039-012-033', '19640000-50', 'other', 'Y', 'UNIVERSITY OF SO CALIF', '', '', 'DEE JACKSON', '3730', '', '', 'MCCLINTOCK AVE', '', 'LOS ANGELES CA', '90007-4012', '620', '', 'W', 'MC CARTHY WAY', 'STE 5', 'LOS ANGELES CA', '90089']\n",
      "['5039-019-051', '19760818-50', 'other', 'Y', 'UNIVERSITY OF SO CALIF', '', '', 'DEE JACKSON', '3131', '', '', 'MCCLINTOCK AVE', '', 'LOS ANGELES CA', '90007-3560', '620', '', '', 'MC CARTHY WAY', 'STE 5', 'LOS ANGELES CA', '90089-0155']\n",
      "['5039-024-016', '19831116-50', 'other', 'Y', 'UNIVERSITY OF SO CALIF', '', '', 'DEE JACKSON', '3441', '', '', 'UNIVERSITY AVE', '', 'LOS ANGELES CA', '90007-3504', '620', '', '', 'MC CARTHY WAY', 'STE 5', 'LOS ANGELES CA', '90089-0155']\n",
      "['5055-012-019', '19790522-50', 'other', 'Y', 'UNIVERSITY OF SO CALIF', '', '', 'DEE JACKSON', '1275', '', 'W', '29TH ST', '', 'LOS ANGELES CA', '90007-3180', '620', '', '', 'MC CARTHY WAY', 'STE 5', 'LOS ANGELES CA', '90089-0155']\n",
      "['5055-027-022', '19860611-50', '', 'Y', 'UNIVERSITY OF SOUTHERN CA', '', '', 'DEE JACKSON', '1149', '', 'E', '28TH ST', '', 'LOS ANGELES CA', '90011-2159', '620', '', '', 'MC CARTHY WAY', 'STE 5', 'LOS ANGELES CA', '90089-0155']\n",
      "['5055-029-020', '19860114-50', '', 'Y', 'UNIVERSITY OF SOUTHERN CA', '', '', 'DEE JACKSON', '1138', '', 'W', '29TH ST', '', 'LOS ANGELES CA', '90007-3115', '620', '', '', 'MC CARTHY WAY', 'STE 5', 'LOS ANGELES CA', '90089-0155']\n",
      "['5055-029-021', '19860114-50', '', 'Y', 'UNIVERSITY OF SOUTHERN CA', '', '', 'DEE JACKSON', '1124', '', 'W', '29TH ST', '', 'LOS ANGELES CA', '90007-3114', '620', '', '', 'MC CARTHY WAY', 'STE 5', 'LOS ANGELES CA', '90089-0155']\n",
      "['5122-022-002', '19890418-50', 'other', 'Y', 'UNIVERSITY OF SOUTHERN CA', '', '', 'DEE JACKSON', '3500', '', 'S', 'HOPE ST', '', 'LOS ANGELES CA', '90007-4342', '620', '', '', 'MC CARTHY WAY', 'STE 5', 'LOS ANGELES CA', '90089-0155']\n",
      "['5122-025-006', '19640929-50', 'other', 'Y', 'UNIVERSITY OF SO CALIF', '', '', 'DEE JACKSON', '3711', '', 'S', 'GRAND AVE', '', 'LOS ANGELES CA', '90007-4332', '620', '', '', 'MC CARTHY WAY', 'STE 5', 'LOS ANGELES CA', '90089-0155']\n",
      "['5122-025-010', '19640929-50', 'other', 'Y', 'UNIVERSITY OF SO CALIF', '', '', 'DEE JACKSON', '3706', '', 'S', 'HOPE ST', '', 'LOS ANGELES CA', '90007-4344', '620', '', '', 'MC CARTHY WAY', 'STE 5', 'LOS ANGELES CA', '90089-0155']\n",
      "['5122-025-012', '19640929-50', 'other', 'Y', 'UNIVERSITY OF SO CALIF', '', '', 'DEE JACKSON', '3714', '', 'S', 'HOPE ST', '', 'LOS ANGELES CA', '90007-4344', '620', '', '', 'MC CARTHY WAY', 'STE 5', 'LOS ANGELES CA', '90089-0155']\n",
      "['5122-025-013', '19640929-50', 'other', 'Y', 'UNIVERSITY OF SO CALIF', '', '', 'DEE JACKSON', '3718', '', 'S', 'HOPE ST', '', 'LOS ANGELES CA', '90007-4344', '620', '', '', 'MC CARTHY WAY', 'STE 5', 'LOS ANGELES CA', '90089-0155']\n",
      "['5123-004-403', '19641112-50', 'other', 'Y', 'UNIVERSITY OF SO CALIF', '', '', 'DEE JACKSON', '914', '', 'W', '28TH ST', '', 'LOS ANGELES CA', '90007-2434', '620', '', '', 'MC CARTHY WAY', 'STE 5', 'LOS ANGELES CA', '90089-0155']\n",
      "['5123-004-411', '19830110-50', 'other', 'Y', 'UNIVERSITY OF SO CALIF', '', '', 'DEE JACKSON', '921', '', 'W', '30TH ST', '', 'LOS ANGELES CA', '90007-2402', '620', '', '', 'MC CARTHY WAY', 'STE 5', 'LOS ANGELES CA', '90089-0155']\n",
      "['5123-004-433', '19921026-50', '', 'Y', 'UNIVERSITY OF SOUTHERN CA', '', '', 'DEE JACKSON', '3375', '', 'S', 'HOOVER ST', '115', 'LOS ANGELES CA', '90089-0116', '620', '', '', 'MC CARTHY WAY', 'STE 5', 'LOS ANGELES CA', '90089-0155']\n",
      "['5123-023-024', '19700526-50', 'other', 'Y', 'UNIVERSITY OF SO CALIF', '', '', '', '663', '', 'W', '34TH ST', '', 'LOS ANGELES CA', '90089-0067', '830', '', '', 'CHILDS WAY', 'STE 5', 'LOS ANGELES CA', '90089-0277']\n",
      "['5123-023-025', '19820513-50', 'other', 'Y', 'UNIVERSITY OF SO CALIF', '', '', 'C/O DEE JACKSON', '0', '', '', '', '', '', '', '620', '', 'W', 'MC CARTHY WAY', 'STE 5', 'LOS ANGELES CA', '90089-0155']\n",
      "['5124-011-016', '19780629-50', 'other', 'Y', 'UNIVERSITY OF SO CALIF', '', '', '', '2390', '', '', 'PORTLAND ST', '', 'LOS ANGELES CA', '90007-1958', '620', '', '', 'MC CARTHY WAY', 'STE 5', 'LOS ANGELES CA', '90089-0155']\n",
      "['5139-029-027', '20101105-50', '', 'Y', 'UNIVERSITY OF SOUTHERN CA', '', '', '', '1155', '', 'S', 'GRAND AVE', 'NO  1410', 'LOS ANGELES CA', '90015-2272', '620', '', 'W', 'MC CARTHY WAY', 'STE 5', 'LOS ANGELES CA', '90089']\n",
      "['2331-032-199', '20080212-50', 'nonReapp', 'Y', 'UNIVERSITY OF SOUTHERN CA', '', '', 'DEE JACKSON', '13032', '', '', 'VICTORY BLVD', '', 'LOS ANGELES CA', '91606-2926', '620', '', '', 'MC CARTHY WAY', 'STE 5', 'LOS ANGELES CA', '90089-0155']\n"
     ]
    }
   ],
   "source": [
    "# open the assessor file, with loop\n",
    "with open(\"assessor.csv\", \"r\") as csvfile:\n",
    "    #run the file through csv reader\n",
    "    assessor = csv.reader(csvfile)\n",
    "    #loop through each row\n",
    "    for row in assessor:\n",
    "        #check if this assessor id number is in row\n",
    "        if 'UNIVERSITY OF SOUTHERN CA' in row or 'UNIVERSITY OF SO CALIF' in row:\n",
    "            print row"
   ]
  },
  {
   "cell_type": "code",
   "execution_count": 131,
   "metadata": {},
   "outputs": [
    {
     "name": "stdout",
     "output_type": "stream",
     "text": [
      "7480-004-007\n",
      "7480-040-026\n",
      "5525-030-023\n",
      "5525-032-017\n",
      "5039-002-029\n",
      "5039-002-030\n",
      "5039-002-031\n",
      "5039-002-032\n",
      "5039-002-033\n",
      "5039-002-034\n",
      "5039-003-027\n",
      "5039-003-029\n",
      "5039-003-030\n",
      "5039-012-027\n",
      "5039-012-029\n",
      "5039-012-030\n",
      "5039-012-031\n",
      "5039-012-033\n",
      "5039-019-051\n",
      "5039-024-016\n",
      "5055-012-019\n",
      "5055-027-022\n",
      "5055-029-020\n",
      "5055-029-021\n",
      "5122-022-002\n",
      "5122-025-006\n",
      "5122-025-010\n",
      "5122-025-012\n",
      "5122-025-013\n",
      "5123-004-403\n",
      "5123-004-411\n",
      "5123-004-433\n",
      "5123-023-024\n",
      "5123-023-025\n",
      "5124-011-016\n",
      "5139-029-027\n",
      "2331-032-199\n"
     ]
    }
   ],
   "source": [
    "#open up usc property file\n",
    "f = open(\"usc.txt\",\"w\")\n",
    "\n",
    "#write header row\n",
    "f.write(\"ain\\n\")\n",
    "\n",
    "# open the assessor file, with loop\n",
    "with open(\"assessor.csv\", \"r\") as csvfile:\n",
    "    #run the file through csv reader\n",
    "    assessor = csv.reader(csvfile)\n",
    "    #loop through each row\n",
    "    for row in assessor:\n",
    "        #check if usc variations are in row\n",
    "        if 'UNIVERSITY OF SOUTHERN CA' in row or 'UNIVERSITY OF SO CALIF' in row:\n",
    "            print row[0]\n",
    "            # \\n is a line break\n",
    "            f.write(row[0] + '\\n')\n",
    "\n",
    "#put it outside the loop to close the file\n",
    "f.close()"
   ]
  },
  {
   "cell_type": "code",
   "execution_count": 132,
   "metadata": {},
   "outputs": [
    {
     "name": "stdout",
     "output_type": "stream",
     "text": [
      "7480-004-007\n",
      "7480-040-026\n",
      "5525-030-023\n",
      "5525-032-017\n",
      "5039-002-029\n",
      "5039-002-030\n",
      "5039-002-031\n",
      "5039-002-032\n",
      "5039-002-033\n",
      "5039-002-034\n",
      "5039-003-027\n",
      "5039-003-029\n",
      "5039-003-030\n",
      "5039-012-027\n",
      "5039-012-029\n",
      "5039-012-030\n",
      "5039-012-031\n",
      "5039-012-033\n",
      "5039-019-051\n",
      "5039-024-016\n",
      "5055-012-019\n",
      "5055-027-022\n",
      "5055-029-020\n",
      "5055-029-021\n",
      "5122-022-002\n",
      "5122-025-006\n",
      "5122-025-010\n",
      "5122-025-012\n",
      "5122-025-013\n",
      "5123-004-403\n",
      "5123-004-411\n",
      "5123-004-433\n",
      "5123-023-024\n",
      "5123-023-025\n",
      "5124-011-016\n",
      "5139-029-027\n",
      "2331-032-199\n"
     ]
    }
   ],
   "source": [
    "#open up usc property file\n",
    "f = open(\"usc.html\",\"w\")\n",
    "\n",
    "#write header row\n",
    "f.write(\"<p><strong>ain</strong></p>\\n\")\n",
    "\n",
    "# open the assessor file, with loop\n",
    "with open(\"assessor.csv\", \"r\") as csvfile:\n",
    "    #run the file through csv reader\n",
    "    assessor = csv.reader(csvfile)\n",
    "    #loop through each row\n",
    "    for row in assessor:\n",
    "        #check if usc variations are in row\n",
    "        if 'UNIVERSITY OF SOUTHERN CA' in row or 'UNIVERSITY OF SO CALIF' in row:\n",
    "            print row[0]\n",
    "            # \\n is a line break\n",
    "            f.write(\"<p>\" + row[0] + \"</p>\\n\")\n",
    "\n",
    "#put it outside the loop to close the file\n",
    "f.close()"
   ]
  },
  {
   "cell_type": "code",
   "execution_count": 2,
   "metadata": {},
   "outputs": [],
   "source": [
    "# define a new function\n",
    "def ladycat(time):\n",
    "    if time is 'night':\n",
    "        print \"SCREAM\"\n",
    "    elif time is 'day':\n",
    "        print \"prrrrr\"\n",
    "    else:\n",
    "        print 'ZZZZ'"
   ]
  },
  {
   "cell_type": "code",
   "execution_count": 3,
   "metadata": {},
   "outputs": [
    {
     "name": "stdout",
     "output_type": "stream",
     "text": [
      "SCREAM\n"
     ]
    }
   ],
   "source": [
    "ladycat('night')"
   ]
  },
  {
   "cell_type": "code",
   "execution_count": 4,
   "metadata": {},
   "outputs": [
    {
     "name": "stdout",
     "output_type": "stream",
     "text": [
      "prrrrr\n"
     ]
    }
   ],
   "source": [
    "ladycat('day')"
   ]
  },
  {
   "cell_type": "code",
   "execution_count": 5,
   "metadata": {},
   "outputs": [
    {
     "name": "stdout",
     "output_type": "stream",
     "text": [
      "ZZZZ\n"
     ]
    }
   ],
   "source": [
    "ladycat('march')"
   ]
  },
  {
   "cell_type": "code",
   "execution_count": null,
   "metadata": {},
   "outputs": [],
   "source": []
  }
 ],
 "metadata": {
  "kernelspec": {
   "display_name": "Python 2",
   "language": "python",
   "name": "python2"
  },
  "language_info": {
   "codemirror_mode": {
    "name": "ipython",
    "version": 2
   },
   "file_extension": ".py",
   "mimetype": "text/x-python",
   "name": "python",
   "nbconvert_exporter": "python",
   "pygments_lexer": "ipython2",
   "version": "2.7.10"
  }
 },
 "nbformat": 4,
 "nbformat_minor": 2
}
